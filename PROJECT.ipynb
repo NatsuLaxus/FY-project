{
  "nbformat": 4,
  "nbformat_minor": 0,
  "metadata": {
    "colab": {
      "name": "PROJECT.ipynb",
      "provenance": [],
      "collapsed_sections": [],
      "authorship_tag": "ABX9TyOZqn4sMKvGuSUz3bDBQPmr",
      "include_colab_link": true
    },
    "kernelspec": {
      "name": "python3",
      "display_name": "Python 3"
    }
  },
  "cells": [
    {
      "cell_type": "markdown",
      "metadata": {
        "id": "view-in-github",
        "colab_type": "text"
      },
      "source": [
        "<a href=\"https://colab.research.google.com/github/NatsuLaxus/FY-project/blob/main/PROJECT.ipynb\" target=\"_parent\"><img src=\"https://colab.research.google.com/assets/colab-badge.svg\" alt=\"Open In Colab\"/></a>"
      ]
    },
    {
      "cell_type": "code",
      "metadata": {
        "id": "lB48TLyr_dC4"
      },
      "source": [
        "import numpy as np\r\n",
        "import pandas as pd\r\n",
        "import matplotlib.pyplot as plt"
      ],
      "execution_count": null,
      "outputs": []
    },
    {
      "cell_type": "code",
      "metadata": {
        "colab": {
          "resources": {
            "http://localhost:8080/nbextensions/google.colab/files.js": {
              "data": "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",
              "ok": true,
              "headers": [
                [
                  "content-type",
                  "application/javascript"
                ]
              ],
              "status": 200,
              "status_text": ""
            }
          },
          "base_uri": "https://localhost:8080/",
          "height": 73
        },
        "id": "zCLC7OSO_xEn",
        "outputId": "8b8afbcb-d5b2-4114-853a-3817d1ca014d"
      },
      "source": [
        "from google.colab import files\r\n",
        "uploaded = files.upload()"
      ],
      "execution_count": null,
      "outputs": [
        {
          "output_type": "display_data",
          "data": {
            "text/html": [
              "\n",
              "     <input type=\"file\" id=\"files-00f35c4d-87ac-41c2-ad35-2a957c784c97\" name=\"files[]\" multiple disabled\n",
              "        style=\"border:none\" />\n",
              "     <output id=\"result-00f35c4d-87ac-41c2-ad35-2a957c784c97\">\n",
              "      Upload widget is only available when the cell has been executed in the\n",
              "      current browser session. Please rerun this cell to enable.\n",
              "      </output>\n",
              "      <script src=\"/nbextensions/google.colab/files.js\"></script> "
            ],
            "text/plain": [
              "<IPython.core.display.HTML object>"
            ]
          },
          "metadata": {
            "tags": []
          }
        },
        {
          "output_type": "stream",
          "text": [
            "Saving MN997409.1-4NY0T82X016-Alignment-HitTable.csv to MN997409.1-4NY0T82X016-Alignment-HitTable.csv\n"
          ],
          "name": "stdout"
        }
      ]
    },
    {
      "cell_type": "code",
      "metadata": {
        "id": "46IZecimBi4L"
      },
      "source": [
        "data = pd.read_csv('MN997409.1-4NY0T82X016-Alignment-HitTable.csv')"
      ],
      "execution_count": null,
      "outputs": []
    },
    {
      "cell_type": "code",
      "metadata": {
        "colab": {
          "base_uri": "https://localhost:8080/",
          "height": 195
        },
        "id": "lQ4NGaP8CKjw",
        "outputId": "280aa8ab-ea00-4a6a-b736-902334ae7bf4"
      },
      "source": [
        "data.head()\r\n"
      ],
      "execution_count": null,
      "outputs": [
        {
          "output_type": "execute_result",
          "data": {
            "text/html": [
              "<div>\n",
              "<style scoped>\n",
              "    .dataframe tbody tr th:only-of-type {\n",
              "        vertical-align: middle;\n",
              "    }\n",
              "\n",
              "    .dataframe tbody tr th {\n",
              "        vertical-align: top;\n",
              "    }\n",
              "\n",
              "    .dataframe thead th {\n",
              "        text-align: right;\n",
              "    }\n",
              "</style>\n",
              "<table border=\"1\" class=\"dataframe\">\n",
              "  <thead>\n",
              "    <tr style=\"text-align: right;\">\n",
              "      <th></th>\n",
              "      <th>MN997409.1</th>\n",
              "      <th>MN997409.1.1</th>\n",
              "      <th>100.000</th>\n",
              "      <th>29882</th>\n",
              "      <th>0</th>\n",
              "      <th>0.1</th>\n",
              "      <th>1</th>\n",
              "      <th>29882.1</th>\n",
              "      <th>1.1</th>\n",
              "      <th>29882.2</th>\n",
              "      <th>0.0</th>\n",
              "      <th>55182</th>\n",
              "    </tr>\n",
              "  </thead>\n",
              "  <tbody>\n",
              "    <tr>\n",
              "      <th>0</th>\n",
              "      <td>MN997409.1</td>\n",
              "      <td>MT020881.1</td>\n",
              "      <td>99.990</td>\n",
              "      <td>29882</td>\n",
              "      <td>3</td>\n",
              "      <td>0</td>\n",
              "      <td>1</td>\n",
              "      <td>29882</td>\n",
              "      <td>1</td>\n",
              "      <td>29882</td>\n",
              "      <td>0.0</td>\n",
              "      <td>55166</td>\n",
              "    </tr>\n",
              "    <tr>\n",
              "      <th>1</th>\n",
              "      <td>MN997409.1</td>\n",
              "      <td>MT020880.1</td>\n",
              "      <td>99.990</td>\n",
              "      <td>29882</td>\n",
              "      <td>3</td>\n",
              "      <td>0</td>\n",
              "      <td>1</td>\n",
              "      <td>29882</td>\n",
              "      <td>1</td>\n",
              "      <td>29882</td>\n",
              "      <td>0.0</td>\n",
              "      <td>55166</td>\n",
              "    </tr>\n",
              "    <tr>\n",
              "      <th>2</th>\n",
              "      <td>MN997409.1</td>\n",
              "      <td>MN985325.1</td>\n",
              "      <td>99.990</td>\n",
              "      <td>29882</td>\n",
              "      <td>3</td>\n",
              "      <td>0</td>\n",
              "      <td>1</td>\n",
              "      <td>29882</td>\n",
              "      <td>1</td>\n",
              "      <td>29882</td>\n",
              "      <td>0.0</td>\n",
              "      <td>55166</td>\n",
              "    </tr>\n",
              "    <tr>\n",
              "      <th>3</th>\n",
              "      <td>MN997409.1</td>\n",
              "      <td>MN975262.1</td>\n",
              "      <td>99.990</td>\n",
              "      <td>29882</td>\n",
              "      <td>3</td>\n",
              "      <td>0</td>\n",
              "      <td>1</td>\n",
              "      <td>29882</td>\n",
              "      <td>1</td>\n",
              "      <td>29882</td>\n",
              "      <td>0.0</td>\n",
              "      <td>55166</td>\n",
              "    </tr>\n",
              "    <tr>\n",
              "      <th>4</th>\n",
              "      <td>MN997409.1</td>\n",
              "      <td>LC522974.1</td>\n",
              "      <td>99.993</td>\n",
              "      <td>29878</td>\n",
              "      <td>2</td>\n",
              "      <td>0</td>\n",
              "      <td>4</td>\n",
              "      <td>29881</td>\n",
              "      <td>1</td>\n",
              "      <td>29878</td>\n",
              "      <td>0.0</td>\n",
              "      <td>55164</td>\n",
              "    </tr>\n",
              "  </tbody>\n",
              "</table>\n",
              "</div>"
            ],
            "text/plain": [
              "   MN997409.1 MN997409.1.1  100.000  29882  ...  1.1  29882.2  0.0  55182\n",
              "0  MN997409.1   MT020881.1   99.990  29882  ...    1    29882  0.0  55166\n",
              "1  MN997409.1   MT020880.1   99.990  29882  ...    1    29882  0.0  55166\n",
              "2  MN997409.1   MN985325.1   99.990  29882  ...    1    29882  0.0  55166\n",
              "3  MN997409.1   MN975262.1   99.990  29882  ...    1    29882  0.0  55166\n",
              "4  MN997409.1   LC522974.1   99.993  29878  ...    1    29878  0.0  55164\n",
              "\n",
              "[5 rows x 12 columns]"
            ]
          },
          "metadata": {
            "tags": []
          },
          "execution_count": 8
        }
      ]
    },
    {
      "cell_type": "code",
      "metadata": {
        "id": "JLM0SipGCQDr"
      },
      "source": [
        "data = data.rename(columns={\"MN997409.1\": \"query acc.ver\", \"MN997409.1.1\": \"subject acc.ver\",\r\n",
        "                            \"100.000\":\"% identity\",\"29882\":\"alignment length\",\"0\":\"mismatches\",\r\n",
        "                            \"0.1\":\"gap opens\",\"1\":\"q. start\",\"29882.1\":\"q. end\",\"1.1\":\"s. start\",\r\n",
        "                           \"29882.2\t\":\"s. end\",\"0.0\":\"evalue\",\"55182\":\"bit score\"})"
      ],
      "execution_count": null,
      "outputs": []
    },
    {
      "cell_type": "code",
      "metadata": {
        "colab": {
          "base_uri": "https://localhost:8080/",
          "height": 195
        },
        "id": "4P_r3x33CR5m",
        "outputId": "e5a8ae6d-2dde-40ce-fc5b-0bcf56afa076"
      },
      "source": [
        "data.head()"
      ],
      "execution_count": null,
      "outputs": [
        {
          "output_type": "execute_result",
          "data": {
            "text/html": [
              "<div>\n",
              "<style scoped>\n",
              "    .dataframe tbody tr th:only-of-type {\n",
              "        vertical-align: middle;\n",
              "    }\n",
              "\n",
              "    .dataframe tbody tr th {\n",
              "        vertical-align: top;\n",
              "    }\n",
              "\n",
              "    .dataframe thead th {\n",
              "        text-align: right;\n",
              "    }\n",
              "</style>\n",
              "<table border=\"1\" class=\"dataframe\">\n",
              "  <thead>\n",
              "    <tr style=\"text-align: right;\">\n",
              "      <th></th>\n",
              "      <th>query acc.ver</th>\n",
              "      <th>subject acc.ver</th>\n",
              "      <th>% identity</th>\n",
              "      <th>alignment length</th>\n",
              "      <th>mismatches</th>\n",
              "      <th>gap opens</th>\n",
              "      <th>q. start</th>\n",
              "      <th>q. end</th>\n",
              "      <th>s. start</th>\n",
              "      <th>29882.2</th>\n",
              "      <th>evalue</th>\n",
              "      <th>bit score</th>\n",
              "    </tr>\n",
              "  </thead>\n",
              "  <tbody>\n",
              "    <tr>\n",
              "      <th>0</th>\n",
              "      <td>MN997409.1</td>\n",
              "      <td>MT020881.1</td>\n",
              "      <td>99.990</td>\n",
              "      <td>29882</td>\n",
              "      <td>3</td>\n",
              "      <td>0</td>\n",
              "      <td>1</td>\n",
              "      <td>29882</td>\n",
              "      <td>1</td>\n",
              "      <td>29882</td>\n",
              "      <td>0.0</td>\n",
              "      <td>55166</td>\n",
              "    </tr>\n",
              "    <tr>\n",
              "      <th>1</th>\n",
              "      <td>MN997409.1</td>\n",
              "      <td>MT020880.1</td>\n",
              "      <td>99.990</td>\n",
              "      <td>29882</td>\n",
              "      <td>3</td>\n",
              "      <td>0</td>\n",
              "      <td>1</td>\n",
              "      <td>29882</td>\n",
              "      <td>1</td>\n",
              "      <td>29882</td>\n",
              "      <td>0.0</td>\n",
              "      <td>55166</td>\n",
              "    </tr>\n",
              "    <tr>\n",
              "      <th>2</th>\n",
              "      <td>MN997409.1</td>\n",
              "      <td>MN985325.1</td>\n",
              "      <td>99.990</td>\n",
              "      <td>29882</td>\n",
              "      <td>3</td>\n",
              "      <td>0</td>\n",
              "      <td>1</td>\n",
              "      <td>29882</td>\n",
              "      <td>1</td>\n",
              "      <td>29882</td>\n",
              "      <td>0.0</td>\n",
              "      <td>55166</td>\n",
              "    </tr>\n",
              "    <tr>\n",
              "      <th>3</th>\n",
              "      <td>MN997409.1</td>\n",
              "      <td>MN975262.1</td>\n",
              "      <td>99.990</td>\n",
              "      <td>29882</td>\n",
              "      <td>3</td>\n",
              "      <td>0</td>\n",
              "      <td>1</td>\n",
              "      <td>29882</td>\n",
              "      <td>1</td>\n",
              "      <td>29882</td>\n",
              "      <td>0.0</td>\n",
              "      <td>55166</td>\n",
              "    </tr>\n",
              "    <tr>\n",
              "      <th>4</th>\n",
              "      <td>MN997409.1</td>\n",
              "      <td>LC522974.1</td>\n",
              "      <td>99.993</td>\n",
              "      <td>29878</td>\n",
              "      <td>2</td>\n",
              "      <td>0</td>\n",
              "      <td>4</td>\n",
              "      <td>29881</td>\n",
              "      <td>1</td>\n",
              "      <td>29878</td>\n",
              "      <td>0.0</td>\n",
              "      <td>55164</td>\n",
              "    </tr>\n",
              "  </tbody>\n",
              "</table>\n",
              "</div>"
            ],
            "text/plain": [
              "  query acc.ver subject acc.ver  % identity  ...  29882.2  evalue  bit score\n",
              "0    MN997409.1      MT020881.1      99.990  ...    29882     0.0      55166\n",
              "1    MN997409.1      MT020880.1      99.990  ...    29882     0.0      55166\n",
              "2    MN997409.1      MN985325.1      99.990  ...    29882     0.0      55166\n",
              "3    MN997409.1      MN975262.1      99.990  ...    29882     0.0      55166\n",
              "4    MN997409.1      LC522974.1      99.993  ...    29878     0.0      55164\n",
              "\n",
              "[5 rows x 12 columns]"
            ]
          },
          "metadata": {
            "tags": []
          },
          "execution_count": 10
        }
      ]
    },
    {
      "cell_type": "code",
      "metadata": {
        "id": "XULdiucgCUuy"
      },
      "source": [
        "data = data.append(pd.Series(['MN997409.1',\t'MN997409.1.1',\t\r\n",
        "                    100.000,\t29882,\t\r\n",
        "                    0,\t0.1,\t1,\t29882.1,\t\r\n",
        "                    1.1,\t29882.2,\t0.0,\t55182], index=data.columns), ignore_index=True)"
      ],
      "execution_count": null,
      "outputs": []
    },
    {
      "cell_type": "code",
      "metadata": {
        "colab": {
          "base_uri": "https://localhost:8080/",
          "height": 195
        },
        "id": "mXR55dhHCeNp",
        "outputId": "cbd0a47e-5198-4274-93c7-2df185217996"
      },
      "source": [
        "data.tail()"
      ],
      "execution_count": null,
      "outputs": [
        {
          "output_type": "execute_result",
          "data": {
            "text/html": [
              "<div>\n",
              "<style scoped>\n",
              "    .dataframe tbody tr th:only-of-type {\n",
              "        vertical-align: middle;\n",
              "    }\n",
              "\n",
              "    .dataframe tbody tr th {\n",
              "        vertical-align: top;\n",
              "    }\n",
              "\n",
              "    .dataframe thead th {\n",
              "        text-align: right;\n",
              "    }\n",
              "</style>\n",
              "<table border=\"1\" class=\"dataframe\">\n",
              "  <thead>\n",
              "    <tr style=\"text-align: right;\">\n",
              "      <th></th>\n",
              "      <th>query acc.ver</th>\n",
              "      <th>subject acc.ver</th>\n",
              "      <th>% identity</th>\n",
              "      <th>alignment length</th>\n",
              "      <th>mismatches</th>\n",
              "      <th>gap opens</th>\n",
              "      <th>q. start</th>\n",
              "      <th>q. end</th>\n",
              "      <th>s. start</th>\n",
              "      <th>29882.2</th>\n",
              "      <th>evalue</th>\n",
              "      <th>bit score</th>\n",
              "    </tr>\n",
              "  </thead>\n",
              "  <tbody>\n",
              "    <tr>\n",
              "      <th>258</th>\n",
              "      <td>MN997409.1</td>\n",
              "      <td>AY282752.2</td>\n",
              "      <td>82.304</td>\n",
              "      <td>17716</td>\n",
              "      <td>2948</td>\n",
              "      <td>169.0</td>\n",
              "      <td>3956</td>\n",
              "      <td>21577.0</td>\n",
              "      <td>3868.0</td>\n",
              "      <td>21490.0</td>\n",
              "      <td>0.0</td>\n",
              "      <td>15175</td>\n",
              "    </tr>\n",
              "    <tr>\n",
              "      <th>259</th>\n",
              "      <td>MN997409.1</td>\n",
              "      <td>AY282752.2</td>\n",
              "      <td>80.063</td>\n",
              "      <td>5417</td>\n",
              "      <td>988</td>\n",
              "      <td>68.0</td>\n",
              "      <td>22539</td>\n",
              "      <td>27910.0</td>\n",
              "      <td>22414.0</td>\n",
              "      <td>27783.0</td>\n",
              "      <td>0.0</td>\n",
              "      <td>3936</td>\n",
              "    </tr>\n",
              "    <tr>\n",
              "      <th>260</th>\n",
              "      <td>MN997409.1</td>\n",
              "      <td>AY282752.2</td>\n",
              "      <td>90.189</td>\n",
              "      <td>1641</td>\n",
              "      <td>142</td>\n",
              "      <td>12.0</td>\n",
              "      <td>28257</td>\n",
              "      <td>29882.0</td>\n",
              "      <td>28088.0</td>\n",
              "      <td>29724.0</td>\n",
              "      <td>0.0</td>\n",
              "      <td>2121</td>\n",
              "    </tr>\n",
              "    <tr>\n",
              "      <th>261</th>\n",
              "      <td>MN997409.1</td>\n",
              "      <td>AY282752.2</td>\n",
              "      <td>79.305</td>\n",
              "      <td>1928</td>\n",
              "      <td>358</td>\n",
              "      <td>35.0</td>\n",
              "      <td>16</td>\n",
              "      <td>1923.0</td>\n",
              "      <td>1.0</td>\n",
              "      <td>1907.0</td>\n",
              "      <td>0.0</td>\n",
              "      <td>1312</td>\n",
              "    </tr>\n",
              "    <tr>\n",
              "      <th>262</th>\n",
              "      <td>MN997409.1</td>\n",
              "      <td>MN997409.1.1</td>\n",
              "      <td>100.000</td>\n",
              "      <td>29882</td>\n",
              "      <td>0</td>\n",
              "      <td>0.1</td>\n",
              "      <td>1</td>\n",
              "      <td>29882.1</td>\n",
              "      <td>1.1</td>\n",
              "      <td>29882.2</td>\n",
              "      <td>0.0</td>\n",
              "      <td>55182</td>\n",
              "    </tr>\n",
              "  </tbody>\n",
              "</table>\n",
              "</div>"
            ],
            "text/plain": [
              "    query acc.ver subject acc.ver  % identity  ...  29882.2  evalue  bit score\n",
              "258    MN997409.1      AY282752.2      82.304  ...  21490.0     0.0      15175\n",
              "259    MN997409.1      AY282752.2      80.063  ...  27783.0     0.0       3936\n",
              "260    MN997409.1      AY282752.2      90.189  ...  29724.0     0.0       2121\n",
              "261    MN997409.1      AY282752.2      79.305  ...   1907.0     0.0       1312\n",
              "262    MN997409.1    MN997409.1.1     100.000  ...  29882.2     0.0      55182\n",
              "\n",
              "[5 rows x 12 columns]"
            ]
          },
          "metadata": {
            "tags": []
          },
          "execution_count": 12
        }
      ]
    },
    {
      "cell_type": "code",
      "metadata": {
        "colab": {
          "base_uri": "https://localhost:8080/"
        },
        "id": "HkZ9xEwMCfT0",
        "outputId": "f2a3efcd-fb5d-45ed-bba8-d3f6eb6929e6"
      },
      "source": [
        "data.shape"
      ],
      "execution_count": null,
      "outputs": [
        {
          "output_type": "execute_result",
          "data": {
            "text/plain": [
              "(263, 12)"
            ]
          },
          "metadata": {
            "tags": []
          },
          "execution_count": 13
        }
      ]
    },
    {
      "cell_type": "code",
      "metadata": {
        "colab": {
          "base_uri": "https://localhost:8080/"
        },
        "id": "SEH_hC79CkYK",
        "outputId": "9611cdbe-bd47-4005-f03d-e52c5c1dd87f"
      },
      "source": [
        "data.describe"
      ],
      "execution_count": null,
      "outputs": [
        {
          "output_type": "execute_result",
          "data": {
            "text/plain": [
              "<bound method NDFrame.describe of     query acc.ver subject acc.ver  % identity  ...  29882.2  evalue  bit score\n",
              "0      MN997409.1      MT020881.1      99.990  ...  29882.0     0.0      55166\n",
              "1      MN997409.1      MT020880.1      99.990  ...  29882.0     0.0      55166\n",
              "2      MN997409.1      MN985325.1      99.990  ...  29882.0     0.0      55166\n",
              "3      MN997409.1      MN975262.1      99.990  ...  29882.0     0.0      55166\n",
              "4      MN997409.1      LC522974.1      99.993  ...  29878.0     0.0      55164\n",
              "..            ...             ...         ...  ...      ...     ...        ...\n",
              "258    MN997409.1      AY282752.2      82.304  ...  21490.0     0.0      15175\n",
              "259    MN997409.1      AY282752.2      80.063  ...  27783.0     0.0       3936\n",
              "260    MN997409.1      AY282752.2      90.189  ...  29724.0     0.0       2121\n",
              "261    MN997409.1      AY282752.2      79.305  ...   1907.0     0.0       1312\n",
              "262    MN997409.1    MN997409.1.1     100.000  ...  29882.2     0.0      55182\n",
              "\n",
              "[263 rows x 12 columns]>"
            ]
          },
          "metadata": {
            "tags": []
          },
          "execution_count": 14
        }
      ]
    },
    {
      "cell_type": "code",
      "metadata": {
        "colab": {
          "base_uri": "https://localhost:8080/",
          "height": 343
        },
        "id": "xask4r5OCmhe",
        "outputId": "e6d3103e-8345-413f-b09d-5ea1c0890326"
      },
      "source": [
        "data.corr()"
      ],
      "execution_count": null,
      "outputs": [
        {
          "output_type": "execute_result",
          "data": {
            "text/html": [
              "<div>\n",
              "<style scoped>\n",
              "    .dataframe tbody tr th:only-of-type {\n",
              "        vertical-align: middle;\n",
              "    }\n",
              "\n",
              "    .dataframe tbody tr th {\n",
              "        vertical-align: top;\n",
              "    }\n",
              "\n",
              "    .dataframe thead th {\n",
              "        text-align: right;\n",
              "    }\n",
              "</style>\n",
              "<table border=\"1\" class=\"dataframe\">\n",
              "  <thead>\n",
              "    <tr style=\"text-align: right;\">\n",
              "      <th></th>\n",
              "      <th>% identity</th>\n",
              "      <th>alignment length</th>\n",
              "      <th>mismatches</th>\n",
              "      <th>gap opens</th>\n",
              "      <th>q. start</th>\n",
              "      <th>q. end</th>\n",
              "      <th>s. start</th>\n",
              "      <th>29882.2</th>\n",
              "      <th>evalue</th>\n",
              "      <th>bit score</th>\n",
              "    </tr>\n",
              "  </thead>\n",
              "  <tbody>\n",
              "    <tr>\n",
              "      <th>% identity</th>\n",
              "      <td>1.000000</td>\n",
              "      <td>0.631524</td>\n",
              "      <td>-0.453509</td>\n",
              "      <td>-0.535174</td>\n",
              "      <td>-0.052519</td>\n",
              "      <td>0.566794</td>\n",
              "      <td>-0.051870</td>\n",
              "      <td>0.569653</td>\n",
              "      <td>NaN</td>\n",
              "      <td>0.793438</td>\n",
              "    </tr>\n",
              "    <tr>\n",
              "      <th>alignment length</th>\n",
              "      <td>0.631524</td>\n",
              "      <td>1.000000</td>\n",
              "      <td>0.206680</td>\n",
              "      <td>0.136714</td>\n",
              "      <td>-0.560720</td>\n",
              "      <td>0.355570</td>\n",
              "      <td>-0.560761</td>\n",
              "      <td>0.359521</td>\n",
              "      <td>NaN</td>\n",
              "      <td>0.944639</td>\n",
              "    </tr>\n",
              "    <tr>\n",
              "      <th>mismatches</th>\n",
              "      <td>-0.453509</td>\n",
              "      <td>0.206680</td>\n",
              "      <td>1.000000</td>\n",
              "      <td>0.988180</td>\n",
              "      <td>-0.197306</td>\n",
              "      <td>-0.021370</td>\n",
              "      <td>-0.198956</td>\n",
              "      <td>-0.022302</td>\n",
              "      <td>NaN</td>\n",
              "      <td>-0.125766</td>\n",
              "    </tr>\n",
              "    <tr>\n",
              "      <th>gap opens</th>\n",
              "      <td>-0.535174</td>\n",
              "      <td>0.136714</td>\n",
              "      <td>0.988180</td>\n",
              "      <td>1.000000</td>\n",
              "      <td>-0.183218</td>\n",
              "      <td>-0.074691</td>\n",
              "      <td>-0.184789</td>\n",
              "      <td>-0.075778</td>\n",
              "      <td>NaN</td>\n",
              "      <td>-0.193213</td>\n",
              "    </tr>\n",
              "    <tr>\n",
              "      <th>q. start</th>\n",
              "      <td>-0.052519</td>\n",
              "      <td>-0.560720</td>\n",
              "      <td>-0.197306</td>\n",
              "      <td>-0.183218</td>\n",
              "      <td>1.000000</td>\n",
              "      <td>0.574516</td>\n",
              "      <td>0.999987</td>\n",
              "      <td>0.571028</td>\n",
              "      <td>NaN</td>\n",
              "      <td>-0.502689</td>\n",
              "    </tr>\n",
              "    <tr>\n",
              "      <th>q. end</th>\n",
              "      <td>0.566794</td>\n",
              "      <td>0.355570</td>\n",
              "      <td>-0.021370</td>\n",
              "      <td>-0.074691</td>\n",
              "      <td>0.574516</td>\n",
              "      <td>1.000000</td>\n",
              "      <td>0.574465</td>\n",
              "      <td>0.999974</td>\n",
              "      <td>NaN</td>\n",
              "      <td>0.367344</td>\n",
              "    </tr>\n",
              "    <tr>\n",
              "      <th>s. start</th>\n",
              "      <td>-0.051870</td>\n",
              "      <td>-0.560761</td>\n",
              "      <td>-0.198956</td>\n",
              "      <td>-0.184789</td>\n",
              "      <td>0.999987</td>\n",
              "      <td>0.574465</td>\n",
              "      <td>1.000000</td>\n",
              "      <td>0.571007</td>\n",
              "      <td>NaN</td>\n",
              "      <td>-0.502181</td>\n",
              "    </tr>\n",
              "    <tr>\n",
              "      <th>29882.2</th>\n",
              "      <td>0.569653</td>\n",
              "      <td>0.359521</td>\n",
              "      <td>-0.022302</td>\n",
              "      <td>-0.075778</td>\n",
              "      <td>0.571028</td>\n",
              "      <td>0.999974</td>\n",
              "      <td>0.571007</td>\n",
              "      <td>1.000000</td>\n",
              "      <td>NaN</td>\n",
              "      <td>0.371660</td>\n",
              "    </tr>\n",
              "    <tr>\n",
              "      <th>evalue</th>\n",
              "      <td>NaN</td>\n",
              "      <td>NaN</td>\n",
              "      <td>NaN</td>\n",
              "      <td>NaN</td>\n",
              "      <td>NaN</td>\n",
              "      <td>NaN</td>\n",
              "      <td>NaN</td>\n",
              "      <td>NaN</td>\n",
              "      <td>NaN</td>\n",
              "      <td>NaN</td>\n",
              "    </tr>\n",
              "    <tr>\n",
              "      <th>bit score</th>\n",
              "      <td>0.793438</td>\n",
              "      <td>0.944639</td>\n",
              "      <td>-0.125766</td>\n",
              "      <td>-0.193213</td>\n",
              "      <td>-0.502689</td>\n",
              "      <td>0.367344</td>\n",
              "      <td>-0.502181</td>\n",
              "      <td>0.371660</td>\n",
              "      <td>NaN</td>\n",
              "      <td>1.000000</td>\n",
              "    </tr>\n",
              "  </tbody>\n",
              "</table>\n",
              "</div>"
            ],
            "text/plain": [
              "                  % identity  alignment length  ...  evalue  bit score\n",
              "% identity          1.000000          0.631524  ...     NaN   0.793438\n",
              "alignment length    0.631524          1.000000  ...     NaN   0.944639\n",
              "mismatches         -0.453509          0.206680  ...     NaN  -0.125766\n",
              "gap opens          -0.535174          0.136714  ...     NaN  -0.193213\n",
              "q. start           -0.052519         -0.560720  ...     NaN  -0.502689\n",
              "q. end              0.566794          0.355570  ...     NaN   0.367344\n",
              "s. start           -0.051870         -0.560761  ...     NaN  -0.502181\n",
              "29882.2             0.569653          0.359521  ...     NaN   0.371660\n",
              "evalue                   NaN               NaN  ...     NaN        NaN\n",
              "bit score           0.793438          0.944639  ...     NaN   1.000000\n",
              "\n",
              "[10 rows x 10 columns]"
            ]
          },
          "metadata": {
            "tags": []
          },
          "execution_count": 15
        }
      ]
    },
    {
      "cell_type": "code",
      "metadata": {
        "colab": {
          "base_uri": "https://localhost:8080/",
          "height": 592
        },
        "id": "agvHZDktCqci",
        "outputId": "43b5685a-004e-4c0d-ec75-a49cc6e80a58"
      },
      "source": [
        "import matplotlib.pyplot as plt\r\n",
        "import seaborn as sns\r\n",
        "plt.figure(figsize=(14,8))\r\n",
        "sns.heatmap(data.corr(), vmax=1, square=True,annot=True,cmap='viridis')\r\n",
        "\r\n",
        "plt.title('Correlation between different fearures')"
      ],
      "execution_count": null,
      "outputs": [
        {
          "output_type": "execute_result",
          "data": {
            "text/plain": [
              "Text(0.5, 1.0, 'Correlation between different fearures')"
            ]
          },
          "metadata": {
            "tags": []
          },
          "execution_count": 18
        },
        {
          "output_type": "display_data",
          "data": {
            "image/png": "[encoded data removed]",
            "text/plain": [
              "<Figure size 1008x576 with 2 Axes>"
            ]
          },
          "metadata": {
            "tags": [],
            "needs_background": "light"
          }
        }
      ]
    },
    {
      "cell_type": "code",
      "metadata": {
        "id": "npKRRqv4Cy3r"
      },
      "source": [
        ""
      ],
      "execution_count": null,
      "outputs": []
    }
  ]
}